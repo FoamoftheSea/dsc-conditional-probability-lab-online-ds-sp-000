{
 "cells": [
  {
   "cell_type": "markdown",
   "metadata": {},
   "source": [
    "# Conditional Probability - Lab\n",
    "\n",
    "## Introduction\n",
    "\n",
    "In order to be ready for real-world applications of probability, it is important to understand what happens when probabilities are not independent. Very often, the probability of a certain event depends on other events happening! Let's see how this all works in this lab.\n",
    "\n",
    "## Objectives\n",
    "\n",
    "You will be able to:\n",
    "\n",
    "* Differentiate between independent and dependent events\n",
    "* Use the multiplication rule to find the probability of the intersection of two events\n",
    "\n",
    "## Exercise 1\n",
    "A coin is tossed and a single 6-sided dice is rolled. Find the probability of landing on the head side of the coin and rolling a 3 on the dice."
   ]
  },
  {
   "cell_type": "code",
   "execution_count": 1,
   "metadata": {},
   "outputs": [
    {
     "data": {
      "text/plain": [
       "0.08333333333333333"
      ]
     },
     "execution_count": 1,
     "metadata": {},
     "output_type": "execute_result"
    }
   ],
   "source": [
    "# These events are independent, so P(AnB) = P(A)P(B)\n",
    "pA = 1/2  #Coin toss\n",
    "pB = 1/6  #Dice Roll\n",
    "pAnB = pA * pB\n",
    "pAnB"
   ]
  },
  {
   "cell_type": "markdown",
   "metadata": {},
   "source": [
    "## Exercise 2\n",
    "\n",
    "\n",
    "After conducting a survey, one of the outcomes was that 8 out of 10 of the survey subjects liked chocolate chip cookies. If three survey subjects are chosen at random **with replacement**, what is the probability that all three like chocolate chip cookies?"
   ]
  },
  {
   "cell_type": "code",
   "execution_count": 3,
   "metadata": {},
   "outputs": [
    {
     "data": {
      "text/plain": [
       "0.5120000000000001"
      ]
     },
     "execution_count": 3,
     "metadata": {},
     "output_type": "execute_result"
    }
   ],
   "source": [
    "# These will be independent events as well because there is replacement.\n",
    "# if P(A) is the first liking CCC's, P(B) is the second, and P(B) is the third, then\n",
    "pA, pB, pC = .8, .8, .8\n",
    "pAnBnC = pA * pB * pC\n",
    "pAnBnC"
   ]
  },
  {
   "cell_type": "markdown",
   "metadata": {},
   "source": [
    "## Exercise 3\n",
    "70% of your friends like chocolate flavored ice cream, and 35% like chocolate AND like strawberry flavors.\n",
    "\n",
    "What percent of those who like chocolate also like strawberry?"
   ]
  },
  {
   "cell_type": "code",
   "execution_count": 6,
   "metadata": {},
   "outputs": [
    {
     "data": {
      "text/plain": [
       "0.5"
      ]
     },
     "execution_count": 6,
     "metadata": {},
     "output_type": "execute_result"
    }
   ],
   "source": [
    "# Liking Chocolate and Strawberry ice cream are independent events.\n",
    "# P(A) is liking chocolate ice cream = .7\n",
    "# P(AnB) is liking chocolate and strawberry = .35\n",
    "# P(AnB) = P(B|A)P(A)\n",
    "# P(B|A) = P(AnB)/P(A)\n",
    "pA = .7\n",
    "pAnB = .35\n",
    "pBlA = pAnB / pA\n",
    "pBlA"
   ]
  },
  {
   "cell_type": "markdown",
   "metadata": {},
   "source": [
    "50% of your friends who like chocolate also like strawberry\n",
    "\n",
    "## Exercise 4\n",
    "What is the probability of drawing 2 consecutive aces from a deck of cards. "
   ]
  },
  {
   "cell_type": "code",
   "execution_count": 8,
   "metadata": {},
   "outputs": [
    {
     "data": {
      "text/plain": [
       "0.004524886877828055"
      ]
     },
     "execution_count": 8,
     "metadata": {},
     "output_type": "execute_result"
    }
   ],
   "source": [
    "# The event of drawing the second ace will be dependent on the event of drawing the first ace\n",
    "# P(B|A) = 3/51\n",
    "# P(A) = 4/52\n",
    "# P(AnB) = P(B|A)P(A)\n",
    "pA = 4/52\n",
    "pBlA = 3/51\n",
    "pAnB = pBlA * pA\n",
    "pAnB"
   ]
  },
  {
   "cell_type": "markdown",
   "metadata": {},
   "source": [
    "## Exercise 5\n",
    "In a manufacturing factory that produces a certain product, there are 100 units of the product, 5 of which are defective. We pick three units from the 100 units at random. \n",
    "\n",
    "What is the probability that none of them are defective?\n",
    "Hint: Use the chain rule here!"
   ]
  },
  {
   "cell_type": "code",
   "execution_count": 4,
   "metadata": {},
   "outputs": [
    {
     "data": {
      "text/plain": [
       "0.8559987631416203"
      ]
     },
     "execution_count": 4,
     "metadata": {},
     "output_type": "execute_result"
    }
   ],
   "source": [
    "# Your code here\n",
    "# P(A) is first unit being non-defective, P(B) the second, P(C) the third\n",
    "# We are interested in P(CnBnA) = P(Cn(BnA)) = P(C|BnA)P(BnA) = P(C|BnA)P(B|A)P(A)\n",
    "# P(A) = 95/100\n",
    "# P(B|A) = 94/99\n",
    "# P(C|BnA) = 93/98\n",
    "pA = 95/100\n",
    "pBlA = 94/99\n",
    "pClBnA = 93/98\n",
    "pCnBnA = pA * pBlA * pClBnA\n",
    "pCnBnA"
   ]
  },
  {
   "cell_type": "markdown",
   "metadata": {},
   "source": [
    "## Exercise 6\n",
    "\n",
    "Let's consider the example where 2 dice are thrown. Given that **at least one** of the dice has come up on a number higher than 4, what is the probability that the sum is 8?\n",
    "\n",
    "Let $i,j$ be the numbers shown on the dice. The events $A$ and $B$ are described below:\n",
    "\n",
    "* **Event $A$ is when either $i$ or $j$ is 5 or 6** (keep an eye on either - or)\n",
    "* **Event $B$ is when $i + j = 8$**\n",
    "\n",
    "\n",
    "* What is the size of sample space $\\Omega$ ?\n",
    "* What is $P(A \\cap B)$ ?\n",
    "* What is $P(A)$ ?\n",
    "* Use above to calculate $P(B \\mid A)$"
   ]
  },
  {
   "cell_type": "code",
   "execution_count": 2,
   "metadata": {},
   "outputs": [
    {
     "name": "stdout",
     "output_type": "stream",
     "text": [
      "There are 5 permutations where the dice sum to 8\n"
     ]
    }
   ],
   "source": [
    "# Find how many times 8 is the sum of 2 dice:\n",
    "sum_8s = 0\n",
    "for i in range(6):\n",
    "    die_1 = i + 1\n",
    "    for j in range(6):\n",
    "        die_2 = j + 1\n",
    "        sum_dice = die_1 + die_2\n",
    "        if sum_dice == 8:\n",
    "            sum_8s += 1\n",
    "print(\"There are {} permutations where the dice sum to 8\".format(sum_8s))"
   ]
  },
  {
   "cell_type": "code",
   "execution_count": 10,
   "metadata": {},
   "outputs": [
    {
     "name": "stdout",
     "output_type": "stream",
     "text": [
      "Chance of B occurring given that A happens: 0.19999999999999998\n",
      "21.0\n"
     ]
    }
   ],
   "source": [
    "# Sample Space is permutations with replacement: n ** j, or 6 ** 2\n",
    "# Meaning there are 36 possible permutations of rolling 2 dice\n",
    "# I am only interested in the 20 outcomes which contain either a 5, 6 or both, \n",
    "# representing the event space for A\n",
    "# I find this equation in the process 2nk - (k ** 2) for finding number of permutations which\n",
    "# Contain one value, the other, OR BOTH\n",
    "# P(A) = |E|/|S| = 12/36 = 1/3\n",
    "# Also, using the number of permutations where the dice sum to 8 calculated above,\n",
    "# I can calculate P(B) = 5/36\n",
    "# In this example you can calculate in your head that there are 4 permutations for AnB,\n",
    "# meaning that P(AnB) = 4/36\n",
    "# Knowing all of this, P(AnB) = P(B|A)P(A), so P(B|A) = (4/36) / (12/36)\n",
    "pAnB = 4/36\n",
    "pA = 20/36\n",
    "pBlA = pAnB/pA\n",
    "print(\"Chance of B occurring given that A happens: {}\".format(pBlA))\n",
    "\n",
    "# Experimenting with combinations\n",
    "# Found this formula for combinations with replacement: (k + n - 1)! / k!(n-1)!\n",
    "from math import factorial as f\n",
    "combs = f(2 + 6 - 1) / (f(2) * f(6-1))\n",
    "print(combs) # Can see here there are 21 combinations with 2 dice"
   ]
  },
  {
   "cell_type": "markdown",
   "metadata": {},
   "source": [
    "## Exercise 7\n",
    "\n",
    "Let's consider a credit card example. At a supermarket, customers are selected randomly, the store owner recorded whether costumers owned a Visa card (event A) or an Amex credit card (event B). Some customers own both cards.\n",
    "You can assume that:\n",
    "\n",
    "- $P(A)$ = 0.5\n",
    "- $P(B)$ = 0.4\n",
    "- both $A$ and $B$ = 0.25.\n",
    "\n",
    "\n",
    "With the knowledge we have about conditional probabilities, compute and interpret the following probabilities:\n",
    "\n",
    "- $P(B \\mid A)$\n",
    "- $P(B' \\mid A)$\n",
    "- $P(A \\mid B)$\n",
    "- $P(A' \\mid B)$\n"
   ]
  },
  {
   "cell_type": "code",
   "execution_count": 14,
   "metadata": {},
   "outputs": [
    {
     "name": "stdout",
     "output_type": "stream",
     "text": [
      "P(B|A) = 0.5\n",
      "P(B'|A) = 0.5\n",
      "P(A|B) = 0.625\n",
      "P(A'|B = 0.375\n"
     ]
    }
   ],
   "source": [
    "pA = .5\n",
    "pB = .4\n",
    "pAnB = .25\n",
    "pBlA = pAnB / pA\n",
    "pBclA = 1 - pBlA\n",
    "pAlB = pAnB / pB\n",
    "pAclB = 1 - pAlB\n",
    "print(f\"\"\"P(B|A) = {pBlA}\n",
    "P(B'|A) = {pBclA}\n",
    "P(A|B) = {pAlB}\n",
    "P(A'|B = {pAclB}\"\"\")"
   ]
  },
  {
   "cell_type": "markdown",
   "metadata": {},
   "source": [
    "## Summary \n",
    "\n",
    "In this lab, you practiced conditional probability and its theorem with some simple problems. The key takeaway from this lab is to be able to identify random events as dependent or independent and calculating the probability of their occurrence using appropriate methods. Next, you'll learn about some more conditional probability axioms, building on the knowledge we have so far. "
   ]
  }
 ],
 "metadata": {
  "kernelspec": {
   "display_name": "Python 3",
   "language": "python",
   "name": "python3"
  },
  "language_info": {
   "codemirror_mode": {
    "name": "ipython",
    "version": 3
   },
   "file_extension": ".py",
   "mimetype": "text/x-python",
   "name": "python",
   "nbconvert_exporter": "python",
   "pygments_lexer": "ipython3",
   "version": "3.6.4"
  },
  "toc": {
   "base_numbering": 1,
   "nav_menu": {},
   "number_sections": true,
   "sideBar": true,
   "skip_h1_title": false,
   "title_cell": "Table of Contents",
   "title_sidebar": "Contents",
   "toc_cell": false,
   "toc_position": {},
   "toc_section_display": true,
   "toc_window_display": false
  }
 },
 "nbformat": 4,
 "nbformat_minor": 2
}
